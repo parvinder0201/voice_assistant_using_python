{
 "cells": [
  {
   "cell_type": "code",
   "execution_count": 53,
   "id": "90a1a2f3",
   "metadata": {},
   "outputs": [],
   "source": [
    "import pyttsx3\n",
    "import speech_recognition as sr\n",
    "import webbrowser\n",
    "import datetime\n",
    "import pyjokes\n",
    "import pyaudio\n",
    "import time \n",
    "import os"
   ]
  },
  {
   "cell_type": "code",
   "execution_count": null,
   "id": "e8d101e2",
   "metadata": {},
   "outputs": [],
   "source": [
    "\n"
   ]
  },
  {
   "cell_type": "code",
   "execution_count": 48,
   "id": "ebb55be6",
   "metadata": {},
   "outputs": [],
   "source": [
    "def sptext():\n",
    "\trecognizer=sr.Recognizer()\n",
    "\twith sr.Microphone() as source:\n",
    "\t\tprint(\"Listening...\")\n",
    "\t\trecognizer.adjust_for_ambient_noise(source)\n",
    "\t\taudio = recognizer.listen(source)\n",
    "\t\ttry:\n",
    "\t\t\tprint(\"recognizing...\")\n",
    "\t\t\tdata = recognizer.recognize_google(audio)\n",
    "\t\t\tprint(data)\n",
    "\t\t\treturn data\n",
    "\t\texcept sr.UnknownValueError:\n",
    "\t\t\tprint(\" Not Understand\")\n",
    "\n",
    "def speechtx(x):\n",
    "\tengine = pyttsx3.init()\n",
    "\tvoices = engine.getProperty('voices')\n",
    "\tengine.setProperty('voice',voices[1].id)\n",
    "\trate = engine.getProperty('rate')\n",
    "\tengine.setProperty('rate',150)\n",
    "\tengine.say(x)\n",
    "\tengine.runAndWait()\n"
   ]
  },
  {
   "cell_type": "code",
   "execution_count": 71,
   "id": "7973f001",
   "metadata": {},
   "outputs": [
    {
     "name": "stdout",
     "output_type": "stream",
     "text": [
      "Listening...\n",
      "recognizing...\n",
      "your name\n",
      "Listening...\n",
      "recognizing...\n",
      "how old are you\n",
      "Listening...\n",
      "recognizing...\n",
      "time\n",
      "Listening...\n",
      "recognizing...\n",
      "joke\n",
      "What do you call a programmer from Finland? Nerdic.\n",
      "Listening...\n",
      "recognizing...\n",
      "exit\n"
     ]
    }
   ],
   "source": [
    "if __name__ == '__main__':\n",
    "\n",
    "\t#if sptext().lower() == \"hello sir\" :\n",
    "        while True:\n",
    "\n",
    "            data1=sptext().lower()\n",
    "            if \"your name\" in data1:\n",
    "                name = \"my name is parvinder\"\n",
    "                speechtx(name)\n",
    "            elif \"old are you\" in data1:\n",
    "                age = \" i am twenty one year old\"\n",
    "                speechtx(age)\n",
    "            elif 'time' in data1:\n",
    "                time = datetime.datetime.now().strftime(\"%I%M%p\")\n",
    "                speechtx(time)\n",
    "            elif 'youtube' in data1:\n",
    "                webbrowser.open(\"https://www.youtube.com/watch?v=BddP6PYo2gs\")\n",
    "            elif 'music' in data1:\n",
    "                webbrowser.open(\"https://www.youtube.com/watch?v=nnO8RgGdARk\")\n",
    "\n",
    "            elif \"joke\" in data1:\n",
    "                joke_1 = pyjokes.get_joke(language=\"en\",category=\"neutral\")\n",
    "                print(joke_1)\n",
    "                speechtx(joke_1)\n",
    "            elif 'play song' in data1:\n",
    "                add = r\"C:\\Users\\parvi\\Music\"\n",
    "                listsong = os.listdir(add)\n",
    "                print(listsong)\n",
    "                os.startfile(os.path.join(add,listsong[0]))\n",
    "            elif \"exit\" in data1:\n",
    "                print(\"thank you\")\n",
    "                speechtx(\"thank you\")\n",
    "                break\n",
    "\n",
    "\n",
    "\n",
    "    #else:\n",
    "        #print(\"thanks\")\n"
   ]
  },
  {
   "cell_type": "code",
   "execution_count": null,
   "id": "9b286233",
   "metadata": {},
   "outputs": [],
   "source": []
  },
  {
   "cell_type": "code",
   "execution_count": null,
   "id": "3794cf14",
   "metadata": {},
   "outputs": [],
   "source": []
  },
  {
   "cell_type": "code",
   "execution_count": null,
   "id": "08ff3e76",
   "metadata": {},
   "outputs": [],
   "source": []
  }
 ],
 "metadata": {
  "kernelspec": {
   "display_name": "Python 3 (ipykernel)",
   "language": "python",
   "name": "python3"
  },
  "language_info": {
   "codemirror_mode": {
    "name": "ipython",
    "version": 3
   },
   "file_extension": ".py",
   "mimetype": "text/x-python",
   "name": "python",
   "nbconvert_exporter": "python",
   "pygments_lexer": "ipython3",
   "version": "3.9.13"
  }
 },
 "nbformat": 4,
 "nbformat_minor": 5
}
